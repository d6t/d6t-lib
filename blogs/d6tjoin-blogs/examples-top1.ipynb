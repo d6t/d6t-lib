{
 "cells": [
  {
   "cell_type": "markdown",
   "metadata": {},
   "source": [
    "# Data Engineering in Python with databolt - Fuzzy Joins (d6tlib/d6tjoin.utils)\n",
    "\n",
    "## Introduction\n",
    "\n",
    "Joining datasets is a common data engineering operation. However, often there are problems merging datasets from different sources because of mismatched identifiers, date conventions etc. \n",
    "\n",
    "** `d6tjoin.top1` module allows you to quickly join datasets even if they don't perfectly match. **\n",
    "Easily join different datasets without writing custom code. Does fuzzy top1 similarity joins for strings, dates and numbers, for example you can quickly join similar but not identical stock tickers, addresses, names without manual processing. It will find the top 1 matched entry from the right dataframe to join onto the left dataframe.\n",
    "\n",
    "Here are some examples which show you how to:\n",
    "1. join on mismatched identifiers\n",
    "2. join on calendar vs business dates\n",
    "3. join on both mismatched dates and identifiers"
   ]
  },
  {
   "cell_type": "code",
   "execution_count": 1,
   "metadata": {},
   "outputs": [
    {
     "data": {
      "text/html": [
       "<div>\n",
       "<style scoped>\n",
       "    .dataframe tbody tr th:only-of-type {\n",
       "        vertical-align: middle;\n",
       "    }\n",
       "\n",
       "    .dataframe tbody tr th {\n",
       "        vertical-align: top;\n",
       "    }\n",
       "\n",
       "    .dataframe thead th {\n",
       "        text-align: right;\n",
       "    }\n",
       "</style>\n",
       "<table border=\"1\" class=\"dataframe\">\n",
       "  <thead>\n",
       "    <tr style=\"text-align: right;\">\n",
       "      <th></th>\n",
       "      <th>date</th>\n",
       "      <th>id</th>\n",
       "      <th>v</th>\n",
       "    </tr>\n",
       "  </thead>\n",
       "  <tbody>\n",
       "    <tr>\n",
       "      <th>0</th>\n",
       "      <td>2010-01-01</td>\n",
       "      <td>e3e70682</td>\n",
       "      <td>0.526</td>\n",
       "    </tr>\n",
       "    <tr>\n",
       "      <th>1</th>\n",
       "      <td>2010-01-01</td>\n",
       "      <td>f728b4fa</td>\n",
       "      <td>0.760</td>\n",
       "    </tr>\n",
       "    <tr>\n",
       "      <th>2</th>\n",
       "      <td>2010-01-01</td>\n",
       "      <td>eb1167b3</td>\n",
       "      <td>0.385</td>\n",
       "    </tr>\n",
       "    <tr>\n",
       "      <th>3</th>\n",
       "      <td>2010-01-01</td>\n",
       "      <td>f7c1bd87</td>\n",
       "      <td>0.741</td>\n",
       "    </tr>\n",
       "    <tr>\n",
       "      <th>4</th>\n",
       "      <td>2010-01-01</td>\n",
       "      <td>e443df78</td>\n",
       "      <td>0.397</td>\n",
       "    </tr>\n",
       "  </tbody>\n",
       "</table>\n",
       "</div>"
      ],
      "text/plain": [
       "        date        id      v\n",
       "0 2010-01-01  e3e70682  0.526\n",
       "1 2010-01-01  f728b4fa  0.760\n",
       "2 2010-01-01  eb1167b3  0.385\n",
       "3 2010-01-01  f7c1bd87  0.741\n",
       "4 2010-01-01  e443df78  0.397"
      ]
     },
     "execution_count": 1,
     "metadata": {},
     "output_type": "execute_result"
    }
   ],
   "source": [
    "import pandas as pd\n",
    "import numpy as np\n",
    "import itertools\n",
    "from faker import Faker\n",
    "import importlib\n",
    "\n",
    "import d6tjoin.top1\n",
    "importlib.reload(d6tjoin.top1)\n",
    "import d6tjoin.utils\n",
    "\n",
    "# *******************************************************\n",
    "# generate sample time series data with id and value\n",
    "# *******************************************************\n",
    "nobs = 10\n",
    "Faker.seed(0)\n",
    "f1 = Faker()\n",
    "uuid1 = [str(f1.uuid4()).split('-')[0] for _ in range(nobs)]\n",
    "dates1 = pd.date_range('1/1/2010','1/1/2011')\n",
    "\n",
    "df1 = pd.DataFrame(list(itertools.product(dates1,uuid1)),columns=['date','id'])\n",
    "df1['v']=np.round(np.random.sample(df1.shape[0]),3)\n",
    "df1.head()"
   ]
  },
  {
   "cell_type": "markdown",
   "metadata": {},
   "source": [
    "# Example 1: join datasets on misaligned ids\n",
    "\n",
    "When joining data from different sources, eg different vendors, often your ids don't match perfect and then you need to manually analyze the situation. With databolt this becomes much easier.\n",
    "\n",
    "Let's create another dataset where the `id` is slightly different."
   ]
  },
  {
   "cell_type": "code",
   "execution_count": 2,
   "metadata": {},
   "outputs": [
    {
     "data": {
      "text/html": [
       "<div>\n",
       "<style scoped>\n",
       "    .dataframe tbody tr th:only-of-type {\n",
       "        vertical-align: middle;\n",
       "    }\n",
       "\n",
       "    .dataframe tbody tr th {\n",
       "        vertical-align: top;\n",
       "    }\n",
       "\n",
       "    .dataframe thead th {\n",
       "        text-align: right;\n",
       "    }\n",
       "</style>\n",
       "<table border=\"1\" class=\"dataframe\">\n",
       "  <thead>\n",
       "    <tr style=\"text-align: right;\">\n",
       "      <th></th>\n",
       "      <th>date</th>\n",
       "      <th>id</th>\n",
       "      <th>v</th>\n",
       "    </tr>\n",
       "  </thead>\n",
       "  <tbody>\n",
       "    <tr>\n",
       "      <th>0</th>\n",
       "      <td>2010-01-01</td>\n",
       "      <td>3e7068</td>\n",
       "      <td>0.526</td>\n",
       "    </tr>\n",
       "    <tr>\n",
       "      <th>1</th>\n",
       "      <td>2010-01-01</td>\n",
       "      <td>728b4f</td>\n",
       "      <td>0.760</td>\n",
       "    </tr>\n",
       "    <tr>\n",
       "      <th>2</th>\n",
       "      <td>2010-01-01</td>\n",
       "      <td>b1167b</td>\n",
       "      <td>0.385</td>\n",
       "    </tr>\n",
       "    <tr>\n",
       "      <th>3</th>\n",
       "      <td>2010-01-01</td>\n",
       "      <td>7c1bd8</td>\n",
       "      <td>0.741</td>\n",
       "    </tr>\n",
       "    <tr>\n",
       "      <th>4</th>\n",
       "      <td>2010-01-01</td>\n",
       "      <td>443df7</td>\n",
       "      <td>0.397</td>\n",
       "    </tr>\n",
       "  </tbody>\n",
       "</table>\n",
       "</div>"
      ],
      "text/plain": [
       "        date      id      v\n",
       "0 2010-01-01  3e7068  0.526\n",
       "1 2010-01-01  728b4f  0.760\n",
       "2 2010-01-01  b1167b  0.385\n",
       "3 2010-01-01  7c1bd8  0.741\n",
       "4 2010-01-01  443df7  0.397"
      ]
     },
     "execution_count": 2,
     "metadata": {},
     "output_type": "execute_result"
    }
   ],
   "source": [
    "# create mismatch\n",
    "df2 = df1.copy()\n",
    "df2['id'] = df1['id'].str[1:-1]\n",
    "df2.head()"
   ]
  },
  {
   "cell_type": "markdown",
   "metadata": {},
   "source": [
    "`d6tjoin.Prejoin().match_quality()` shows you there is none of `id` match so a normal join won't work well."
   ]
  },
  {
   "cell_type": "code",
   "execution_count": 3,
   "metadata": {},
   "outputs": [
    {
     "name": "stdout",
     "output_type": "stream",
     "text": [
      "  key left key right  all matched  inner  left  right  outer  unmatched total  unmatched left  unmatched right\n",
      "0       id        id        False      0    10     10     20               20              10               10\n",
      "1     date      date         True    366   366    366    366                0               0                0\n",
      "2  __all__   __all__        False      0  3660   3660   7320             7320            3660             3660\n"
     ]
    }
   ],
   "source": [
    "d6tjoin.Prejoin([df1,df2],['id','date']).match_quality()"
   ]
  },
  {
   "cell_type": "markdown",
   "metadata": {},
   "source": [
    "Using `d6tjoin.top1.MergeTop1()` you can quickly merge this dataset without having to do any manual processing. It will find the closest matching id using the Levenstein string similarity metric. We want to look at the closest id by date so we will pass in date as an exact match key."
   ]
  },
  {
   "cell_type": "code",
   "execution_count": 4,
   "metadata": {},
   "outputs": [],
   "source": [
    "result = d6tjoin.top1.MergeTop1(df1.head(),df2,fuzzy_left_on=['id'],fuzzy_right_on=['id'],exact_left_on=['date'],exact_right_on=['date']).merge()"
   ]
  },
  {
   "cell_type": "markdown",
   "metadata": {},
   "source": [
    "Lets check what matches it found. Looking at the top1 match table, it shows the closest string with only 2 character difference in id, meaning it found the correct substring. "
   ]
  },
  {
   "cell_type": "code",
   "execution_count": 5,
   "metadata": {},
   "outputs": [
    {
     "data": {
      "text/html": [
       "<div>\n",
       "<style scoped>\n",
       "    .dataframe tbody tr th:only-of-type {\n",
       "        vertical-align: middle;\n",
       "    }\n",
       "\n",
       "    .dataframe tbody tr th {\n",
       "        vertical-align: top;\n",
       "    }\n",
       "\n",
       "    .dataframe thead th {\n",
       "        text-align: right;\n",
       "    }\n",
       "</style>\n",
       "<table border=\"1\" class=\"dataframe\">\n",
       "  <thead>\n",
       "    <tr style=\"text-align: right;\">\n",
       "      <th></th>\n",
       "      <th>date</th>\n",
       "      <th>__top1left__</th>\n",
       "      <th>__top1right__</th>\n",
       "      <th>__top1diff__</th>\n",
       "      <th>__matchtype__</th>\n",
       "    </tr>\n",
       "  </thead>\n",
       "  <tbody>\n",
       "    <tr>\n",
       "      <th>20</th>\n",
       "      <td>2010-01-01</td>\n",
       "      <td>e3e70682</td>\n",
       "      <td>3e7068</td>\n",
       "      <td>2</td>\n",
       "      <td>top1 left</td>\n",
       "    </tr>\n",
       "    <tr>\n",
       "      <th>14</th>\n",
       "      <td>2010-01-01</td>\n",
       "      <td>e443df78</td>\n",
       "      <td>443df7</td>\n",
       "      <td>2</td>\n",
       "      <td>top1 left</td>\n",
       "    </tr>\n",
       "    <tr>\n",
       "      <th>42</th>\n",
       "      <td>2010-01-01</td>\n",
       "      <td>eb1167b3</td>\n",
       "      <td>b1167b</td>\n",
       "      <td>2</td>\n",
       "      <td>top1 left</td>\n",
       "    </tr>\n",
       "    <tr>\n",
       "      <th>31</th>\n",
       "      <td>2010-01-01</td>\n",
       "      <td>f728b4fa</td>\n",
       "      <td>728b4f</td>\n",
       "      <td>2</td>\n",
       "      <td>top1 left</td>\n",
       "    </tr>\n",
       "    <tr>\n",
       "      <th>3</th>\n",
       "      <td>2010-01-01</td>\n",
       "      <td>f7c1bd87</td>\n",
       "      <td>7c1bd8</td>\n",
       "      <td>2</td>\n",
       "      <td>top1 left</td>\n",
       "    </tr>\n",
       "  </tbody>\n",
       "</table>\n",
       "</div>"
      ],
      "text/plain": [
       "         date __top1left__ __top1right__  __top1diff__ __matchtype__\n",
       "20 2010-01-01     e3e70682        3e7068             2     top1 left\n",
       "14 2010-01-01     e443df78        443df7             2     top1 left\n",
       "42 2010-01-01     eb1167b3        b1167b             2     top1 left\n",
       "31 2010-01-01     f728b4fa        728b4f             2     top1 left\n",
       "3  2010-01-01     f7c1bd87        7c1bd8             2     top1 left"
      ]
     },
     "execution_count": 5,
     "metadata": {},
     "output_type": "execute_result"
    }
   ],
   "source": [
    "result['top1']['id']"
   ]
  },
  {
   "cell_type": "markdown",
   "metadata": {},
   "source": [
    "Since the match results look good, you can use the merged dataset."
   ]
  },
  {
   "cell_type": "code",
   "execution_count": 6,
   "metadata": {},
   "outputs": [
    {
     "data": {
      "text/html": [
       "<div>\n",
       "<style scoped>\n",
       "    .dataframe tbody tr th:only-of-type {\n",
       "        vertical-align: middle;\n",
       "    }\n",
       "\n",
       "    .dataframe tbody tr th {\n",
       "        vertical-align: top;\n",
       "    }\n",
       "\n",
       "    .dataframe thead th {\n",
       "        text-align: right;\n",
       "    }\n",
       "</style>\n",
       "<table border=\"1\" class=\"dataframe\">\n",
       "  <thead>\n",
       "    <tr style=\"text-align: right;\">\n",
       "      <th></th>\n",
       "      <th>date</th>\n",
       "      <th>id</th>\n",
       "      <th>v</th>\n",
       "      <th>id_right</th>\n",
       "      <th>v_right</th>\n",
       "    </tr>\n",
       "  </thead>\n",
       "  <tbody>\n",
       "    <tr>\n",
       "      <th>0</th>\n",
       "      <td>2010-01-01</td>\n",
       "      <td>e3e70682</td>\n",
       "      <td>0.526</td>\n",
       "      <td>3e7068</td>\n",
       "      <td>0.526</td>\n",
       "    </tr>\n",
       "    <tr>\n",
       "      <th>1</th>\n",
       "      <td>2010-01-01</td>\n",
       "      <td>f728b4fa</td>\n",
       "      <td>0.760</td>\n",
       "      <td>728b4f</td>\n",
       "      <td>0.760</td>\n",
       "    </tr>\n",
       "    <tr>\n",
       "      <th>2</th>\n",
       "      <td>2010-01-01</td>\n",
       "      <td>eb1167b3</td>\n",
       "      <td>0.385</td>\n",
       "      <td>b1167b</td>\n",
       "      <td>0.385</td>\n",
       "    </tr>\n",
       "    <tr>\n",
       "      <th>3</th>\n",
       "      <td>2010-01-01</td>\n",
       "      <td>f7c1bd87</td>\n",
       "      <td>0.741</td>\n",
       "      <td>7c1bd8</td>\n",
       "      <td>0.741</td>\n",
       "    </tr>\n",
       "    <tr>\n",
       "      <th>4</th>\n",
       "      <td>2010-01-01</td>\n",
       "      <td>e443df78</td>\n",
       "      <td>0.397</td>\n",
       "      <td>443df7</td>\n",
       "      <td>0.397</td>\n",
       "    </tr>\n",
       "  </tbody>\n",
       "</table>\n",
       "</div>"
      ],
      "text/plain": [
       "        date        id      v id_right  v_right\n",
       "0 2010-01-01  e3e70682  0.526   3e7068    0.526\n",
       "1 2010-01-01  f728b4fa  0.760   728b4f    0.760\n",
       "2 2010-01-01  eb1167b3  0.385   b1167b    0.385\n",
       "3 2010-01-01  f7c1bd87  0.741   7c1bd8    0.741\n",
       "4 2010-01-01  e443df78  0.397   443df7    0.397"
      ]
     },
     "execution_count": 6,
     "metadata": {},
     "output_type": "execute_result"
    }
   ],
   "source": [
    "result['merged'].head()"
   ]
  },
  {
   "cell_type": "code",
   "execution_count": 7,
   "metadata": {},
   "outputs": [],
   "source": [
    "assert not result['duplicates']"
   ]
  },
  {
   "cell_type": "markdown",
   "metadata": {},
   "source": [
    "# Example 2: join 2 datasets with misaligned dates\n",
    "\n",
    "As another example, instead of the ids not matching, lets look at an example where the dates don't match. We will look at calendar vs business month end dates."
   ]
  },
  {
   "cell_type": "code",
   "execution_count": 8,
   "metadata": {},
   "outputs": [],
   "source": [
    "dates2 = pd.bdate_range('1/1/2010','1/1/2011') # business instead of calendar dates\n",
    "df2 = pd.DataFrame(list(itertools.product(dates2,uuid1)),columns=['date','id'])\n",
    "df2['v']=np.round(np.random.sample(df2.shape[0]),3)"
   ]
  },
  {
   "cell_type": "markdown",
   "metadata": {},
   "source": [
    "`d6tjoin.Prejoin()` shows some but not all of the dates match. All the ids match."
   ]
  },
  {
   "cell_type": "code",
   "execution_count": 9,
   "metadata": {},
   "outputs": [
    {
     "name": "stdout",
     "output_type": "stream",
     "text": [
      "  key left key right  all matched  inner  left  right  outer  unmatched total  unmatched left  unmatched right\n",
      "0       id        id         True     10    10     10     10                0               0                0\n",
      "1     date      date        False    261   366    261    366              105             105                0\n",
      "2  __all__   __all__        False   2610  3660   2610   3660             1050            1050                0\n"
     ]
    }
   ],
   "source": [
    "d6tjoin.Prejoin([df1,df2],['id','date']).match_quality()"
   ]
  },
  {
   "cell_type": "markdown",
   "metadata": {},
   "source": [
    "So we want to do a fuzzy match on dates but have the id match perfectly."
   ]
  },
  {
   "cell_type": "code",
   "execution_count": 10,
   "metadata": {},
   "outputs": [],
   "source": [
    "result = d6tjoin.top1.MergeTop1(df1,df2,fuzzy_left_on=['date'],fuzzy_right_on=['date'],exact_left_on=['id'],exact_right_on=['id']).merge()"
   ]
  },
  {
   "cell_type": "markdown",
   "metadata": {},
   "source": [
    "Again lets check if the fuzzy matches are correct. If either matches or is off by a day most, looks good!"
   ]
  },
  {
   "cell_type": "code",
   "execution_count": 11,
   "metadata": {},
   "outputs": [
    {
     "data": {
      "text/html": [
       "<div>\n",
       "<style scoped>\n",
       "    .dataframe tbody tr th:only-of-type {\n",
       "        vertical-align: middle;\n",
       "    }\n",
       "\n",
       "    .dataframe tbody tr th {\n",
       "        vertical-align: top;\n",
       "    }\n",
       "\n",
       "    .dataframe thead th {\n",
       "        text-align: right;\n",
       "    }\n",
       "</style>\n",
       "<table border=\"1\" class=\"dataframe\">\n",
       "  <thead>\n",
       "    <tr style=\"text-align: right;\">\n",
       "      <th></th>\n",
       "      <th>id</th>\n",
       "      <th>__top1left__</th>\n",
       "      <th>__top1right__</th>\n",
       "      <th>__top1diff__</th>\n",
       "      <th>__matchtype__</th>\n",
       "    </tr>\n",
       "  </thead>\n",
       "  <tbody>\n",
       "    <tr>\n",
       "      <th>0</th>\n",
       "      <td>1846d424</td>\n",
       "      <td>2010-01-01</td>\n",
       "      <td>2010-01-01</td>\n",
       "      <td>0 days</td>\n",
       "      <td>exact</td>\n",
       "    </tr>\n",
       "    <tr>\n",
       "      <th>1</th>\n",
       "      <td>eb1167b3</td>\n",
       "      <td>2010-01-01</td>\n",
       "      <td>2010-01-01</td>\n",
       "      <td>0 days</td>\n",
       "      <td>exact</td>\n",
       "    </tr>\n",
       "    <tr>\n",
       "      <th>2</th>\n",
       "      <td>e443df78</td>\n",
       "      <td>2010-01-01</td>\n",
       "      <td>2010-01-01</td>\n",
       "      <td>0 days</td>\n",
       "      <td>exact</td>\n",
       "    </tr>\n",
       "  </tbody>\n",
       "</table>\n",
       "</div>"
      ],
      "text/plain": [
       "         id __top1left__ __top1right__ __top1diff__ __matchtype__\n",
       "0  1846d424   2010-01-01    2010-01-01       0 days         exact\n",
       "1  eb1167b3   2010-01-01    2010-01-01       0 days         exact\n",
       "2  e443df78   2010-01-01    2010-01-01       0 days         exact"
      ]
     },
     "execution_count": 11,
     "metadata": {},
     "output_type": "execute_result"
    }
   ],
   "source": [
    "result['top1']['date'].head(3)"
   ]
  },
  {
   "cell_type": "code",
   "execution_count": 12,
   "metadata": {},
   "outputs": [
    {
     "data": {
      "text/html": [
       "<div>\n",
       "<style scoped>\n",
       "    .dataframe tbody tr th:only-of-type {\n",
       "        vertical-align: middle;\n",
       "    }\n",
       "\n",
       "    .dataframe tbody tr th {\n",
       "        vertical-align: top;\n",
       "    }\n",
       "\n",
       "    .dataframe thead th {\n",
       "        text-align: right;\n",
       "    }\n",
       "</style>\n",
       "<table border=\"1\" class=\"dataframe\">\n",
       "  <thead>\n",
       "    <tr style=\"text-align: right;\">\n",
       "      <th></th>\n",
       "      <th>id</th>\n",
       "      <th>__top1left__</th>\n",
       "      <th>__top1right__</th>\n",
       "      <th>__top1diff__</th>\n",
       "      <th>__matchtype__</th>\n",
       "    </tr>\n",
       "  </thead>\n",
       "  <tbody>\n",
       "    <tr>\n",
       "      <th>3657</th>\n",
       "      <td>1846d424</td>\n",
       "      <td>2011-01-01</td>\n",
       "      <td>2010-12-31</td>\n",
       "      <td>1 days</td>\n",
       "      <td>top1 left</td>\n",
       "    </tr>\n",
       "    <tr>\n",
       "      <th>3658</th>\n",
       "      <td>f7c1bd87</td>\n",
       "      <td>2011-01-01</td>\n",
       "      <td>2010-12-31</td>\n",
       "      <td>1 days</td>\n",
       "      <td>top1 left</td>\n",
       "    </tr>\n",
       "    <tr>\n",
       "      <th>3659</th>\n",
       "      <td>fcbd04c3</td>\n",
       "      <td>2011-01-01</td>\n",
       "      <td>2010-12-31</td>\n",
       "      <td>1 days</td>\n",
       "      <td>top1 left</td>\n",
       "    </tr>\n",
       "  </tbody>\n",
       "</table>\n",
       "</div>"
      ],
      "text/plain": [
       "            id __top1left__ __top1right__ __top1diff__ __matchtype__\n",
       "3657  1846d424   2011-01-01    2010-12-31       1 days     top1 left\n",
       "3658  f7c1bd87   2011-01-01    2010-12-31       1 days     top1 left\n",
       "3659  fcbd04c3   2011-01-01    2010-12-31       1 days     top1 left"
      ]
     },
     "execution_count": 12,
     "metadata": {},
     "output_type": "execute_result"
    }
   ],
   "source": [
    "result['top1']['date'].tail(3)"
   ]
  },
  {
   "cell_type": "code",
   "execution_count": 13,
   "metadata": {},
   "outputs": [
    {
     "data": {
      "text/plain": [
       "Timedelta('1 days 00:00:00')"
      ]
     },
     "execution_count": 13,
     "metadata": {},
     "output_type": "execute_result"
    }
   ],
   "source": [
    "result['top1']['date']['__top1diff__'].max()"
   ]
  },
  {
   "cell_type": "markdown",
   "metadata": {},
   "source": [
    "Again with very little effort we were able to join this dataset together."
   ]
  },
  {
   "cell_type": "code",
   "execution_count": 14,
   "metadata": {},
   "outputs": [
    {
     "data": {
      "text/html": [
       "<div>\n",
       "<style scoped>\n",
       "    .dataframe tbody tr th:only-of-type {\n",
       "        vertical-align: middle;\n",
       "    }\n",
       "\n",
       "    .dataframe tbody tr th {\n",
       "        vertical-align: top;\n",
       "    }\n",
       "\n",
       "    .dataframe thead th {\n",
       "        text-align: right;\n",
       "    }\n",
       "</style>\n",
       "<table border=\"1\" class=\"dataframe\">\n",
       "  <thead>\n",
       "    <tr style=\"text-align: right;\">\n",
       "      <th></th>\n",
       "      <th>date</th>\n",
       "      <th>id</th>\n",
       "      <th>v</th>\n",
       "      <th>date_right</th>\n",
       "      <th>v_right</th>\n",
       "    </tr>\n",
       "  </thead>\n",
       "  <tbody>\n",
       "    <tr>\n",
       "      <th>0</th>\n",
       "      <td>2010-01-01</td>\n",
       "      <td>e3e70682</td>\n",
       "      <td>0.526</td>\n",
       "      <td>2010-01-01</td>\n",
       "      <td>0.467</td>\n",
       "    </tr>\n",
       "    <tr>\n",
       "      <th>1</th>\n",
       "      <td>2010-01-02</td>\n",
       "      <td>e3e70682</td>\n",
       "      <td>0.845</td>\n",
       "      <td>2010-01-01</td>\n",
       "      <td>0.467</td>\n",
       "    </tr>\n",
       "    <tr>\n",
       "      <th>2</th>\n",
       "      <td>2010-01-01</td>\n",
       "      <td>f728b4fa</td>\n",
       "      <td>0.760</td>\n",
       "      <td>2010-01-01</td>\n",
       "      <td>0.855</td>\n",
       "    </tr>\n",
       "    <tr>\n",
       "      <th>3</th>\n",
       "      <td>2010-01-02</td>\n",
       "      <td>f728b4fa</td>\n",
       "      <td>0.506</td>\n",
       "      <td>2010-01-01</td>\n",
       "      <td>0.855</td>\n",
       "    </tr>\n",
       "    <tr>\n",
       "      <th>4</th>\n",
       "      <td>2010-01-01</td>\n",
       "      <td>eb1167b3</td>\n",
       "      <td>0.385</td>\n",
       "      <td>2010-01-01</td>\n",
       "      <td>0.485</td>\n",
       "    </tr>\n",
       "  </tbody>\n",
       "</table>\n",
       "</div>"
      ],
      "text/plain": [
       "        date        id      v date_right  v_right\n",
       "0 2010-01-01  e3e70682  0.526 2010-01-01    0.467\n",
       "1 2010-01-02  e3e70682  0.845 2010-01-01    0.467\n",
       "2 2010-01-01  f728b4fa  0.760 2010-01-01    0.855\n",
       "3 2010-01-02  f728b4fa  0.506 2010-01-01    0.855\n",
       "4 2010-01-01  eb1167b3  0.385 2010-01-01    0.485"
      ]
     },
     "execution_count": 14,
     "metadata": {},
     "output_type": "execute_result"
    }
   ],
   "source": [
    "result['merged'].head()"
   ]
  },
  {
   "cell_type": "markdown",
   "metadata": {},
   "source": [
    "# Example 3: join 2 datasets with misaligned dates AND ids\n",
    "\n",
    "In the final example, we combine the above cases. None of the ids match and some of the dates are mismatched. As before with little manual effort we are able to correctly merge the dataset."
   ]
  },
  {
   "cell_type": "code",
   "execution_count": 15,
   "metadata": {},
   "outputs": [],
   "source": [
    "dates2 = pd.bdate_range('1/1/2010','1/1/2011') # business instead of calendar dates\n",
    "df2 = pd.DataFrame(list(itertools.product(dates2,uuid1)),columns=['date','id'])\n",
    "df2['v']=np.round(np.random.sample(df2.shape[0]),3)\n",
    "df2['id'] = df2['id'].str[1:-1]"
   ]
  },
  {
   "cell_type": "code",
   "execution_count": 16,
   "metadata": {},
   "outputs": [
    {
     "name": "stdout",
     "output_type": "stream",
     "text": [
      "  key left key right  all matched  inner  left  right  outer  unmatched total  unmatched left  unmatched right\n",
      "0       id        id        False      0    10     10     20               20              10               10\n",
      "1     date      date        False    261   366    261    366              105             105                0\n",
      "2  __all__   __all__        False      0  3660   2610   6270             6270            3660             2610\n"
     ]
    }
   ],
   "source": [
    "d6tjoin.Prejoin([df1,df2],['id','date']).match_quality()"
   ]
  },
  {
   "cell_type": "code",
   "execution_count": 17,
   "metadata": {},
   "outputs": [],
   "source": [
    "result = d6tjoin.top1.MergeTop1(df1,df2,['date','id'],['date','id']).merge()"
   ]
  },
  {
   "cell_type": "code",
   "execution_count": 18,
   "metadata": {},
   "outputs": [
    {
     "data": {
      "text/html": [
       "<div>\n",
       "<style scoped>\n",
       "    .dataframe tbody tr th:only-of-type {\n",
       "        vertical-align: middle;\n",
       "    }\n",
       "\n",
       "    .dataframe tbody tr th {\n",
       "        vertical-align: top;\n",
       "    }\n",
       "\n",
       "    .dataframe thead th {\n",
       "        text-align: right;\n",
       "    }\n",
       "</style>\n",
       "<table border=\"1\" class=\"dataframe\">\n",
       "  <thead>\n",
       "    <tr style=\"text-align: right;\">\n",
       "      <th></th>\n",
       "      <th>date</th>\n",
       "      <th>id</th>\n",
       "      <th>v</th>\n",
       "      <th>date_right</th>\n",
       "      <th>id_right</th>\n",
       "      <th>v_right</th>\n",
       "    </tr>\n",
       "  </thead>\n",
       "  <tbody>\n",
       "    <tr>\n",
       "      <th>0</th>\n",
       "      <td>2010-01-01</td>\n",
       "      <td>e3e70682</td>\n",
       "      <td>0.526</td>\n",
       "      <td>2010-01-01</td>\n",
       "      <td>3e7068</td>\n",
       "      <td>0.695</td>\n",
       "    </tr>\n",
       "    <tr>\n",
       "      <th>1</th>\n",
       "      <td>2010-01-02</td>\n",
       "      <td>e3e70682</td>\n",
       "      <td>0.845</td>\n",
       "      <td>2010-01-01</td>\n",
       "      <td>3e7068</td>\n",
       "      <td>0.695</td>\n",
       "    </tr>\n",
       "    <tr>\n",
       "      <th>2</th>\n",
       "      <td>2010-01-01</td>\n",
       "      <td>f728b4fa</td>\n",
       "      <td>0.760</td>\n",
       "      <td>2010-01-01</td>\n",
       "      <td>728b4f</td>\n",
       "      <td>0.891</td>\n",
       "    </tr>\n",
       "    <tr>\n",
       "      <th>3</th>\n",
       "      <td>2010-01-02</td>\n",
       "      <td>f728b4fa</td>\n",
       "      <td>0.506</td>\n",
       "      <td>2010-01-01</td>\n",
       "      <td>728b4f</td>\n",
       "      <td>0.891</td>\n",
       "    </tr>\n",
       "    <tr>\n",
       "      <th>4</th>\n",
       "      <td>2010-01-01</td>\n",
       "      <td>eb1167b3</td>\n",
       "      <td>0.385</td>\n",
       "      <td>2010-01-01</td>\n",
       "      <td>b1167b</td>\n",
       "      <td>0.424</td>\n",
       "    </tr>\n",
       "  </tbody>\n",
       "</table>\n",
       "</div>"
      ],
      "text/plain": [
       "        date        id      v date_right id_right  v_right\n",
       "0 2010-01-01  e3e70682  0.526 2010-01-01   3e7068    0.695\n",
       "1 2010-01-02  e3e70682  0.845 2010-01-01   3e7068    0.695\n",
       "2 2010-01-01  f728b4fa  0.760 2010-01-01   728b4f    0.891\n",
       "3 2010-01-02  f728b4fa  0.506 2010-01-01   728b4f    0.891\n",
       "4 2010-01-01  eb1167b3  0.385 2010-01-01   b1167b    0.424"
      ]
     },
     "execution_count": 18,
     "metadata": {},
     "output_type": "execute_result"
    }
   ],
   "source": [
    "result['merged'].head()"
   ]
  },
  {
   "cell_type": "code",
   "execution_count": 19,
   "metadata": {
    "scrolled": true
   },
   "outputs": [
    {
     "data": {
      "text/html": [
       "<div>\n",
       "<style scoped>\n",
       "    .dataframe tbody tr th:only-of-type {\n",
       "        vertical-align: middle;\n",
       "    }\n",
       "\n",
       "    .dataframe tbody tr th {\n",
       "        vertical-align: top;\n",
       "    }\n",
       "\n",
       "    .dataframe thead th {\n",
       "        text-align: right;\n",
       "    }\n",
       "</style>\n",
       "<table border=\"1\" class=\"dataframe\">\n",
       "  <thead>\n",
       "    <tr style=\"text-align: right;\">\n",
       "      <th></th>\n",
       "      <th>__top1left__</th>\n",
       "      <th>__top1right__</th>\n",
       "      <th>__top1diff__</th>\n",
       "      <th>__matchtype__</th>\n",
       "    </tr>\n",
       "  </thead>\n",
       "  <tbody>\n",
       "    <tr>\n",
       "      <th>361</th>\n",
       "      <td>2010-12-28</td>\n",
       "      <td>2010-12-28</td>\n",
       "      <td>0 days</td>\n",
       "      <td>exact</td>\n",
       "    </tr>\n",
       "    <tr>\n",
       "      <th>362</th>\n",
       "      <td>2010-12-29</td>\n",
       "      <td>2010-12-29</td>\n",
       "      <td>0 days</td>\n",
       "      <td>exact</td>\n",
       "    </tr>\n",
       "    <tr>\n",
       "      <th>363</th>\n",
       "      <td>2010-12-30</td>\n",
       "      <td>2010-12-30</td>\n",
       "      <td>0 days</td>\n",
       "      <td>exact</td>\n",
       "    </tr>\n",
       "    <tr>\n",
       "      <th>364</th>\n",
       "      <td>2010-12-31</td>\n",
       "      <td>2010-12-31</td>\n",
       "      <td>0 days</td>\n",
       "      <td>exact</td>\n",
       "    </tr>\n",
       "    <tr>\n",
       "      <th>365</th>\n",
       "      <td>2011-01-01</td>\n",
       "      <td>2010-12-31</td>\n",
       "      <td>1 days</td>\n",
       "      <td>top1 left</td>\n",
       "    </tr>\n",
       "  </tbody>\n",
       "</table>\n",
       "</div>"
      ],
      "text/plain": [
       "    __top1left__ __top1right__ __top1diff__ __matchtype__\n",
       "361   2010-12-28    2010-12-28       0 days         exact\n",
       "362   2010-12-29    2010-12-29       0 days         exact\n",
       "363   2010-12-30    2010-12-30       0 days         exact\n",
       "364   2010-12-31    2010-12-31       0 days         exact\n",
       "365   2011-01-01    2010-12-31       1 days     top1 left"
      ]
     },
     "execution_count": 19,
     "metadata": {},
     "output_type": "execute_result"
    }
   ],
   "source": [
    "result['top1']['date'].tail()"
   ]
  },
  {
   "cell_type": "code",
   "execution_count": 20,
   "metadata": {},
   "outputs": [
    {
     "data": {
      "text/html": [
       "<div>\n",
       "<style scoped>\n",
       "    .dataframe tbody tr th:only-of-type {\n",
       "        vertical-align: middle;\n",
       "    }\n",
       "\n",
       "    .dataframe tbody tr th {\n",
       "        vertical-align: top;\n",
       "    }\n",
       "\n",
       "    .dataframe thead th {\n",
       "        text-align: right;\n",
       "    }\n",
       "</style>\n",
       "<table border=\"1\" class=\"dataframe\">\n",
       "  <thead>\n",
       "    <tr style=\"text-align: right;\">\n",
       "      <th></th>\n",
       "      <th>__top1right__date</th>\n",
       "      <th>__top1left__</th>\n",
       "      <th>__top1right__</th>\n",
       "      <th>__top1diff__</th>\n",
       "      <th>__matchtype__</th>\n",
       "    </tr>\n",
       "  </thead>\n",
       "  <tbody>\n",
       "    <tr>\n",
       "      <th>19836</th>\n",
       "      <td>2010-01-01</td>\n",
       "      <td>1846d424</td>\n",
       "      <td>846d42</td>\n",
       "      <td>2</td>\n",
       "      <td>top1 left</td>\n",
       "    </tr>\n",
       "    <tr>\n",
       "      <th>24795</th>\n",
       "      <td>2010-01-01</td>\n",
       "      <td>23a7711a</td>\n",
       "      <td>3a7711</td>\n",
       "      <td>2</td>\n",
       "      <td>top1 left</td>\n",
       "    </tr>\n",
       "    <tr>\n",
       "      <th>18009</th>\n",
       "      <td>2010-01-01</td>\n",
       "      <td>259f4329</td>\n",
       "      <td>59f432</td>\n",
       "      <td>2</td>\n",
       "      <td>top1 left</td>\n",
       "    </tr>\n",
       "    <tr>\n",
       "      <th>9918</th>\n",
       "      <td>2010-01-01</td>\n",
       "      <td>b4862b21</td>\n",
       "      <td>4862b2</td>\n",
       "      <td>2</td>\n",
       "      <td>top1 left</td>\n",
       "    </tr>\n",
       "    <tr>\n",
       "      <th>13050</th>\n",
       "      <td>2010-01-01</td>\n",
       "      <td>e3e70682</td>\n",
       "      <td>3e7068</td>\n",
       "      <td>2</td>\n",
       "      <td>top1 left</td>\n",
       "    </tr>\n",
       "  </tbody>\n",
       "</table>\n",
       "</div>"
      ],
      "text/plain": [
       "      __top1right__date __top1left__ __top1right__  __top1diff__ __matchtype__\n",
       "19836        2010-01-01     1846d424        846d42             2     top1 left\n",
       "24795        2010-01-01     23a7711a        3a7711             2     top1 left\n",
       "18009        2010-01-01     259f4329        59f432             2     top1 left\n",
       "9918         2010-01-01     b4862b21        4862b2             2     top1 left\n",
       "13050        2010-01-01     e3e70682        3e7068             2     top1 left"
      ]
     },
     "execution_count": 20,
     "metadata": {},
     "output_type": "execute_result"
    }
   ],
   "source": [
    "result['top1']['id'].head()"
   ]
  },
  {
   "cell_type": "markdown",
   "metadata": {
    "collapsed": true
   },
   "source": [
    "# Advanced Usage Options"
   ]
  },
  {
   "cell_type": "markdown",
   "metadata": {},
   "source": [
    "## Passing a difference limit\n",
    "By default every record in the left dataframe will be matched with a record in the right dataframe. Sometimes the difference is too large though to be considered a match. You can control this by passing the `top_limit` parameter."
   ]
  },
  {
   "cell_type": "code",
   "execution_count": 21,
   "metadata": {},
   "outputs": [],
   "source": [
    "dates2 = pd.bdate_range('1/1/2010','1/1/2011') # business instead of calendar dates\n",
    "df2 = pd.DataFrame(list(itertools.product(dates2,uuid1[:-2])),columns=['date','id'])\n",
    "df2['v']=np.random.sample(df2.shape[0])\n",
    "df2['id'] = df2['id'].str[1:-1]"
   ]
  },
  {
   "cell_type": "code",
   "execution_count": 22,
   "metadata": {},
   "outputs": [
    {
     "data": {
      "text/html": [
       "<div>\n",
       "<style scoped>\n",
       "    .dataframe tbody tr th:only-of-type {\n",
       "        vertical-align: middle;\n",
       "    }\n",
       "\n",
       "    .dataframe tbody tr th {\n",
       "        vertical-align: top;\n",
       "    }\n",
       "\n",
       "    .dataframe thead th {\n",
       "        text-align: right;\n",
       "    }\n",
       "</style>\n",
       "<table border=\"1\" class=\"dataframe\">\n",
       "  <thead>\n",
       "    <tr style=\"text-align: right;\">\n",
       "      <th></th>\n",
       "      <th>__top1right__date</th>\n",
       "      <th>__top1left__</th>\n",
       "      <th>__top1right__</th>\n",
       "      <th>__top1diff__</th>\n",
       "      <th>__matchtype__</th>\n",
       "    </tr>\n",
       "  </thead>\n",
       "  <tbody>\n",
       "    <tr>\n",
       "      <th>16182</th>\n",
       "      <td>2010-01-01</td>\n",
       "      <td>1846d424</td>\n",
       "      <td>846d42</td>\n",
       "      <td>2</td>\n",
       "      <td>top1 left</td>\n",
       "    </tr>\n",
       "    <tr>\n",
       "      <th>20097</th>\n",
       "      <td>2010-01-01</td>\n",
       "      <td>23a7711a</td>\n",
       "      <td>3a7711</td>\n",
       "      <td>2</td>\n",
       "      <td>top1 left</td>\n",
       "    </tr>\n",
       "    <tr>\n",
       "      <th>14094</th>\n",
       "      <td>2010-01-01</td>\n",
       "      <td>259f4329</td>\n",
       "      <td>846d42</td>\n",
       "      <td>6</td>\n",
       "      <td>top1 left</td>\n",
       "    </tr>\n",
       "    <tr>\n",
       "      <th>6786</th>\n",
       "      <td>2010-01-01</td>\n",
       "      <td>b4862b21</td>\n",
       "      <td>b1167b</td>\n",
       "      <td>5</td>\n",
       "      <td>top1 left</td>\n",
       "    </tr>\n",
       "    <tr>\n",
       "      <th>7830</th>\n",
       "      <td>2010-01-01</td>\n",
       "      <td>b4862b21</td>\n",
       "      <td>846d42</td>\n",
       "      <td>5</td>\n",
       "      <td>top1 left</td>\n",
       "    </tr>\n",
       "  </tbody>\n",
       "</table>\n",
       "</div>"
      ],
      "text/plain": [
       "      __top1right__date __top1left__ __top1right__  __top1diff__ __matchtype__\n",
       "16182        2010-01-01     1846d424        846d42             2     top1 left\n",
       "20097        2010-01-01     23a7711a        3a7711             2     top1 left\n",
       "14094        2010-01-01     259f4329        846d42             6     top1 left\n",
       "6786         2010-01-01     b4862b21        b1167b             5     top1 left\n",
       "7830         2010-01-01     b4862b21        846d42             5     top1 left"
      ]
     },
     "execution_count": 22,
     "metadata": {},
     "output_type": "execute_result"
    }
   ],
   "source": [
    "result = d6tjoin.top1.MergeTop1(df1,df2,['date','id'],['date','id']).merge()\n",
    "result['top1']['id'].head()"
   ]
  },
  {
   "cell_type": "markdown",
   "metadata": {},
   "source": [
    "We have some correct matches but also some bad matches with `__top1diff__`>2. We will restrict `top_limit` to be at most 2."
   ]
  },
  {
   "cell_type": "code",
   "execution_count": 23,
   "metadata": {},
   "outputs": [],
   "source": [
    "result = d6tjoin.top1.MergeTop1(df1,df2,['date','id'],['date','id'], top_limit=[None,2]).merge()"
   ]
  },
  {
   "cell_type": "code",
   "execution_count": 24,
   "metadata": {},
   "outputs": [
    {
     "data": {
      "text/html": [
       "<div>\n",
       "<style scoped>\n",
       "    .dataframe tbody tr th:only-of-type {\n",
       "        vertical-align: middle;\n",
       "    }\n",
       "\n",
       "    .dataframe tbody tr th {\n",
       "        vertical-align: top;\n",
       "    }\n",
       "\n",
       "    .dataframe thead th {\n",
       "        text-align: right;\n",
       "    }\n",
       "</style>\n",
       "<table border=\"1\" class=\"dataframe\">\n",
       "  <thead>\n",
       "    <tr style=\"text-align: right;\">\n",
       "      <th></th>\n",
       "      <th>__top1right__date</th>\n",
       "      <th>__top1left__</th>\n",
       "      <th>__top1right__</th>\n",
       "      <th>__top1diff__</th>\n",
       "      <th>__matchtype__</th>\n",
       "    </tr>\n",
       "  </thead>\n",
       "  <tbody>\n",
       "    <tr>\n",
       "      <th>16182</th>\n",
       "      <td>2010-01-01</td>\n",
       "      <td>1846d424</td>\n",
       "      <td>846d42</td>\n",
       "      <td>2</td>\n",
       "      <td>top1 left</td>\n",
       "    </tr>\n",
       "    <tr>\n",
       "      <th>20097</th>\n",
       "      <td>2010-01-01</td>\n",
       "      <td>23a7711a</td>\n",
       "      <td>3a7711</td>\n",
       "      <td>2</td>\n",
       "      <td>top1 left</td>\n",
       "    </tr>\n",
       "    <tr>\n",
       "      <th>10440</th>\n",
       "      <td>2010-01-01</td>\n",
       "      <td>e3e70682</td>\n",
       "      <td>3e7068</td>\n",
       "      <td>2</td>\n",
       "      <td>top1 left</td>\n",
       "    </tr>\n",
       "    <tr>\n",
       "      <th>17748</th>\n",
       "      <td>2010-01-01</td>\n",
       "      <td>e443df78</td>\n",
       "      <td>443df7</td>\n",
       "      <td>2</td>\n",
       "      <td>top1 left</td>\n",
       "    </tr>\n",
       "    <tr>\n",
       "      <th>2610</th>\n",
       "      <td>2010-01-01</td>\n",
       "      <td>eb1167b3</td>\n",
       "      <td>b1167b</td>\n",
       "      <td>2</td>\n",
       "      <td>top1 left</td>\n",
       "    </tr>\n",
       "  </tbody>\n",
       "</table>\n",
       "</div>"
      ],
      "text/plain": [
       "      __top1right__date __top1left__ __top1right__  __top1diff__ __matchtype__\n",
       "16182        2010-01-01     1846d424        846d42             2     top1 left\n",
       "20097        2010-01-01     23a7711a        3a7711             2     top1 left\n",
       "10440        2010-01-01     e3e70682        3e7068             2     top1 left\n",
       "17748        2010-01-01     e443df78        443df7             2     top1 left\n",
       "2610         2010-01-01     eb1167b3        b1167b             2     top1 left"
      ]
     },
     "execution_count": 24,
     "metadata": {},
     "output_type": "execute_result"
    }
   ],
   "source": [
    "result['top1']['id'].head()"
   ]
  },
  {
   "cell_type": "markdown",
   "metadata": {},
   "source": [
    "## Passing a custom difference function\n",
    "By default string matches are done using Levenstein edit distance. You can pass a custom function using `fun_diff`. For example lets pass Hamming distance."
   ]
  },
  {
   "cell_type": "code",
   "execution_count": 25,
   "metadata": {},
   "outputs": [],
   "source": [
    "import jellyfish\n",
    "result = d6tjoin.top1.MergeTop1(df1,df2,['date','id'],['date','id'], fun_diff=[None,jellyfish.hamming_distance]).merge()"
   ]
  },
  {
   "cell_type": "code",
   "execution_count": 26,
   "metadata": {},
   "outputs": [
    {
     "data": {
      "text/html": [
       "<div>\n",
       "<style scoped>\n",
       "    .dataframe tbody tr th:only-of-type {\n",
       "        vertical-align: middle;\n",
       "    }\n",
       "\n",
       "    .dataframe tbody tr th {\n",
       "        vertical-align: top;\n",
       "    }\n",
       "\n",
       "    .dataframe thead th {\n",
       "        text-align: right;\n",
       "    }\n",
       "</style>\n",
       "<table border=\"1\" class=\"dataframe\">\n",
       "  <thead>\n",
       "    <tr style=\"text-align: right;\">\n",
       "      <th></th>\n",
       "      <th>__top1right__date</th>\n",
       "      <th>__top1left__</th>\n",
       "      <th>__top1right__</th>\n",
       "      <th>__top1diff__</th>\n",
       "      <th>__matchtype__</th>\n",
       "    </tr>\n",
       "  </thead>\n",
       "  <tbody>\n",
       "    <tr>\n",
       "      <th>15138</th>\n",
       "      <td>2010-01-01</td>\n",
       "      <td>1846d424</td>\n",
       "      <td>b1167b</td>\n",
       "      <td>7</td>\n",
       "      <td>top1 left</td>\n",
       "    </tr>\n",
       "    <tr>\n",
       "      <th>15399</th>\n",
       "      <td>2010-01-01</td>\n",
       "      <td>1846d424</td>\n",
       "      <td>7c1bd8</td>\n",
       "      <td>7</td>\n",
       "      <td>top1 left</td>\n",
       "    </tr>\n",
       "    <tr>\n",
       "      <th>20097</th>\n",
       "      <td>2010-01-01</td>\n",
       "      <td>23a7711a</td>\n",
       "      <td>3a7711</td>\n",
       "      <td>6</td>\n",
       "      <td>top1 left</td>\n",
       "    </tr>\n",
       "    <tr>\n",
       "      <th>12789</th>\n",
       "      <td>2010-01-01</td>\n",
       "      <td>259f4329</td>\n",
       "      <td>728b4f</td>\n",
       "      <td>7</td>\n",
       "      <td>top1 left</td>\n",
       "    </tr>\n",
       "    <tr>\n",
       "      <th>14094</th>\n",
       "      <td>2010-01-01</td>\n",
       "      <td>259f4329</td>\n",
       "      <td>846d42</td>\n",
       "      <td>7</td>\n",
       "      <td>top1 left</td>\n",
       "    </tr>\n",
       "  </tbody>\n",
       "</table>\n",
       "</div>"
      ],
      "text/plain": [
       "      __top1right__date __top1left__ __top1right__  __top1diff__ __matchtype__\n",
       "15138        2010-01-01     1846d424        b1167b             7     top1 left\n",
       "15399        2010-01-01     1846d424        7c1bd8             7     top1 left\n",
       "20097        2010-01-01     23a7711a        3a7711             6     top1 left\n",
       "12789        2010-01-01     259f4329        728b4f             7     top1 left\n",
       "14094        2010-01-01     259f4329        846d42             7     top1 left"
      ]
     },
     "execution_count": 26,
     "metadata": {},
     "output_type": "execute_result"
    }
   ],
   "source": [
    "result['top1']['id'].head()"
   ]
  },
  {
   "cell_type": "code",
   "execution_count": null,
   "metadata": {},
   "outputs": [],
   "source": []
  }
 ],
 "metadata": {
  "kernelspec": {
   "display_name": "Python 3",
   "language": "python",
   "name": "python3"
  },
  "language_info": {
   "codemirror_mode": {
    "name": "ipython",
    "version": 3
   },
   "file_extension": ".py",
   "mimetype": "text/x-python",
   "name": "python",
   "nbconvert_exporter": "python",
   "pygments_lexer": "ipython3",
   "version": "3.7.6"
  }
 },
 "nbformat": 4,
 "nbformat_minor": 2
}
